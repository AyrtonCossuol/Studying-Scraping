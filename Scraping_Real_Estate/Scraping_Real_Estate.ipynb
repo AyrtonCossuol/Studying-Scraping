{
  "nbformat": 4,
  "nbformat_minor": 0,
  "metadata": {
    "colab": {
      "name": "Scraping_Real_Estate.ipynb",
      "provenance": []
    },
    "kernelspec": {
      "name": "python3",
      "display_name": "Python 3"
    },
    "language_info": {
      "name": "python"
    }
  },
  "cells": [
    {
      "cell_type": "markdown",
      "source": [
        ""
      ],
      "metadata": {
        "id": "k1h0fu2_XVPN"
      }
    },
    {
      "cell_type": "markdown",
      "source": [
        "# 0. Importando Bibliotecas"
      ],
      "metadata": {
        "id": "p2fGfegdQB0x"
      }
    },
    {
      "cell_type": "code",
      "source": [
        "import pandas as pd\n",
        "import requests\n",
        "from requests.structures import CaseInsensitiveDict"
      ],
      "metadata": {
        "id": "IoRdWfThVv3Y"
      },
      "execution_count": 1,
      "outputs": []
    },
    {
      "cell_type": "markdown",
      "source": [
        "# 1. Carregando dados usando uma solicitação da web\n"
      ],
      "metadata": {
        "id": "KwBcpx-3QKv5"
      }
    },
    {
      "cell_type": "code",
      "source": [
        "# Site e informações da requisição\n",
        "url = \"https://api2.realtor.ca/Listing.svc/PropertySearch_Post\"\n",
        "\n",
        "headers = CaseInsensitiveDict()\n",
        "headers[\"authority\"] = \"api2.realtor.ca\"\n",
        "headers[\"accept\"] = \"*/*\"\n",
        "headers[\"user-agent\"] = \"Mozilla/5.0 (Windows NT 10.0; Win64; x64) AppleWebKit/537.36 (KHTML, like Gecko) Chrome/97.0.4692.71 Safari/537.36\"\n",
        "headers[\"content-type\"] = \"application/x-www-form-urlencoded; charset=UTF-8\"\n",
        "headers[\"sec-gpc\"] = \"1\"\n",
        "headers[\"origin\"] = \"https://www.realtor.ca\"\n",
        "headers[\"sec-fetch-site\"] = \"same-site\"\n",
        "headers[\"sec-fetch-mode\"] = \"cors\"\n",
        "headers[\"sec-fetch-dest\"] = \"empty\"\n",
        "headers[\"referer\"] = \"https://www.realtor.ca/\"\n",
        "headers[\"accept-language\"] = \"pt-BR,pt;q=0.9,en-US;q=0.8,en;q=0.7\"\n",
        "headers[\"cookie\"] = \"visid_incap_2269415=muoD4q7zRLu7xN1m4bBqzTQl3GEAAAAAQUIPAAAAAAD38KiNO1t29F4wQLgwv4o6; nlbi_2269415=fufpRG3iZXA1ybjskG5lugAAAADrplQvRokxgGBBXCKPD8+h; incap_ses_1291_2269415=SgY6Yy46vRjVOD92D47qETUl3GEAAAAAWm2hYKcsD+iox5bL4mUY8w==; incap_ses_1476_2269415=P0nVBowxhzFc4JmzR857FDUl3GEAAAAAUpKstbfl0X2PHe4H6Jf/Dg==; gig_bootstrap_3_mrQiIl6ov44s2X3j6NGWVZ9SDDtplqV7WgdcyEpGYnYxl7ygDWPQHqQqtpSiUfko=gigya-pr_ver4; ASP.NET_SessionId=j1fnmpbdhc5lr0icak0wv2zn; visid_incap_2271082=gCzjZi7GSDGqG1ZjU5pq7nAl3GEAAAAAQUIPAAAAAADeKRcD3r2Wxpm9Vs8Mndvt; nlbi_2271082=8aazJdLALHWa3xTxcbDG1QAAAAD9YES4zCXffzBUkPf1qC/U; incap_ses_1476_2271082=9N+MKBbThCckSpqzR857FHEl3GEAAAAAhsoge2AvWrCjuGi1iEpcNA==; nlbi_2269415_2147483646=GdYCOJ/P9TAWpH8gkG5lugAAAADNsvmEahUBUtBpIWe3P5lu; reese84=3:+NoFzjgVLw+cKHmp/nEPMw==:kHBIdkpQ7yrJ0MnoVzPmXMyaRp2YCsoE0ISHtKGxdNb77JlfSicPYlwsm+lLAVji0zmti0XH1n8s1tLUKQX0vqYBhPTWwJXKnOzTyI0CUJ5ttKdRpSPc320C2EvXBt3y7mM58A0nN6/YtfiIMlpEnQp6NdZTupW8m8hiWoCknLXHvqsXYibjUP1kjWh2s6qCHAMkaq9lOjs6QqydKpb2DQLsCdzCkBmmNfoCTvw065b3NvhxlTRgk1y4zJtsmVKl7hkJZD8V9NW6GxEOapnkXTNesuM/fJso14RQKT+icyll7+kNJa51zrDLWpZPL/75cUsLDVOcbjSvPqlmsN4+A0zyQJaSL+nOYqDy+2DaxdZfpR1aUPGGnJlfJaIGvHLL8Gam0m1eSVLwhVRuK7J2wawl2utMBDXCEI3m8TXBZAg=:S+vNB3cfHiQD7IMzSMA8WPwzKpy+w+bUxaKUIM5oh0c=\"\n",
        "\n",
        "data = \"ZoomLevel=10&LatitudeMax=45.62325&LongitudeMax=-75.15382&LatitudeMin=44.87493&LongitudeMin=-76.44608&Sort=6-D&PropertyTypeGroupID=1&PropertySearchTypeId=1&TransactionTypeId=2&Currency=CAD&RecordsPerPage=12&ApplicationId=1&CultureId=1&Version=7.0&CurrentPage=1\"\n",
        "\n",
        "\n",
        "response = requests.post(url, headers=headers, data=data)"
      ],
      "metadata": {
        "id": "l334mIEw-_Xo"
      },
      "execution_count": 2,
      "outputs": []
    },
    {
      "cell_type": "code",
      "source": [
        "# Status da requisição\n",
        "response"
      ],
      "metadata": {
        "colab": {
          "base_uri": "https://localhost:8080/"
        },
        "id": "2TVetTmr_AsY",
        "outputId": "9fc9f25f-b27f-428c-c6d7-4b2af1860670"
      },
      "execution_count": 3,
      "outputs": [
        {
          "output_type": "execute_result",
          "data": {
            "text/plain": [
              "<Response [200]>"
            ]
          },
          "metadata": {},
          "execution_count": 3
        }
      ]
    },
    {
      "cell_type": "markdown",
      "source": [
        "# 2. Modificações Iniciais"
      ],
      "metadata": {
        "id": "eXVeilk5QyfA"
      }
    },
    {
      "cell_type": "markdown",
      "source": [
        "## 2.1 Transformando"
      ],
      "metadata": {
        "id": "n6xHXy89RQ6y"
      }
    },
    {
      "cell_type": "code",
      "source": [
        "# Transformando os dados recebidos todos em JSON\n",
        "result_json = response.json()"
      ],
      "metadata": {
        "id": "EXKMOgAR_RRB"
      },
      "execution_count": 4,
      "outputs": []
    },
    {
      "cell_type": "code",
      "source": [
        "# Verificando se todas as Keys foram importadas corretamente.\n",
        "result_json.keys()"
      ],
      "metadata": {
        "colab": {
          "base_uri": "https://localhost:8080/"
        },
        "id": "Xp1mFspQ_Wsk",
        "outputId": "bd171625-d602-4c39-86eb-e87bdb64c93b"
      },
      "execution_count": 5,
      "outputs": [
        {
          "output_type": "execute_result",
          "data": {
            "text/plain": [
              "dict_keys(['ErrorCode', 'Paging', 'Results', 'Pins', 'GroupingLevel'])"
            ]
          },
          "metadata": {},
          "execution_count": 5
        }
      ]
    },
    {
      "cell_type": "markdown",
      "source": [
        "## 2.2 Capturando o objetivo"
      ],
      "metadata": {
        "id": "-U-rU9RiRWF4"
      }
    },
    {
      "cell_type": "code",
      "source": [
        "# Ponto inicial de toda a parte da estração das informações\n",
        "result_items = result_json['Results']"
      ],
      "metadata": {
        "id": "54yoDitT_gqF"
      },
      "execution_count": 6,
      "outputs": []
    },
    {
      "cell_type": "code",
      "source": [
        "len(result_items)"
      ],
      "metadata": {
        "colab": {
          "base_uri": "https://localhost:8080/"
        },
        "id": "QklcFrvYAjVT",
        "outputId": "c4dcd3ae-c450-4d48-8e54-c32d2f602518"
      },
      "execution_count": 7,
      "outputs": [
        {
          "output_type": "execute_result",
          "data": {
            "text/plain": [
              "12"
            ]
          },
          "metadata": {},
          "execution_count": 7
        }
      ]
    },
    {
      "cell_type": "markdown",
      "source": [
        "# 3. Buscando os dados\n",
        "Objetivo de encontrar todas os caminhos das informações que queremos extrair, tais quais:\n",
        "- Address\n",
        "- Bedrooms\n",
        "- Bathrooms\n",
        "- Agent Name\n",
        "- Area Code\n",
        "- Phone Number\n",
        "- Price"
      ],
      "metadata": {
        "id": "_TL7cGzCRsmY"
      }
    },
    {
      "cell_type": "code",
      "source": [
        "# Address\n",
        "result_items[0]['Property']['Address']['AddressText']"
      ],
      "metadata": {
        "colab": {
          "base_uri": "https://localhost:8080/",
          "height": 0
        },
        "id": "K9ghU65wAu2I",
        "outputId": "608336cb-1c59-468a-f1ab-c6004d8e1af2"
      },
      "execution_count": 8,
      "outputs": [
        {
          "output_type": "execute_result",
          "data": {
            "application/vnd.google.colaboratory.intrinsic+json": {
              "type": "string"
            },
            "text/plain": [
              "'22 BRODER CRESCENT|Morrisburg, Ontario K0C1X0'"
            ]
          },
          "metadata": {},
          "execution_count": 8
        }
      ]
    },
    {
      "cell_type": "code",
      "source": [
        "# Bedrooms\n",
        "result_items[0]['Building']['Bedrooms']"
      ],
      "metadata": {
        "colab": {
          "base_uri": "https://localhost:8080/",
          "height": 0
        },
        "id": "WyOUQhbfA6Y_",
        "outputId": "2b0f71f0-0862-4c75-d06f-53041e0f7c3e"
      },
      "execution_count": 9,
      "outputs": [
        {
          "output_type": "execute_result",
          "data": {
            "application/vnd.google.colaboratory.intrinsic+json": {
              "type": "string"
            },
            "text/plain": [
              "'2 + 0'"
            ]
          },
          "metadata": {},
          "execution_count": 9
        }
      ]
    },
    {
      "cell_type": "code",
      "source": [
        "# Bathrooms\n",
        "result_items[0]['Building']['BathroomTotal']"
      ],
      "metadata": {
        "colab": {
          "base_uri": "https://localhost:8080/",
          "height": 0
        },
        "id": "g16U0Q2ABcfu",
        "outputId": "8c79b294-fc3d-4ae4-9d26-d9248f012743"
      },
      "execution_count": 10,
      "outputs": [
        {
          "output_type": "execute_result",
          "data": {
            "application/vnd.google.colaboratory.intrinsic+json": {
              "type": "string"
            },
            "text/plain": [
              "'2'"
            ]
          },
          "metadata": {},
          "execution_count": 10
        }
      ]
    },
    {
      "cell_type": "code",
      "source": [
        "# Agent Name\n",
        "result_items[0]['Individual'][0]['Name']"
      ],
      "metadata": {
        "colab": {
          "base_uri": "https://localhost:8080/",
          "height": 0
        },
        "id": "wDA0xQVNBm8k",
        "outputId": "cfed6cbf-93bd-4e77-d743-08473b77508b"
      },
      "execution_count": 11,
      "outputs": [
        {
          "output_type": "execute_result",
          "data": {
            "application/vnd.google.colaboratory.intrinsic+json": {
              "type": "string"
            },
            "text/plain": [
              "'Natalie Sobhie'"
            ]
          },
          "metadata": {},
          "execution_count": 11
        }
      ]
    },
    {
      "cell_type": "code",
      "source": [
        "# Area Code\n",
        "result_items[0]['Individual'][0]['Phones'][0]['AreaCode']"
      ],
      "metadata": {
        "colab": {
          "base_uri": "https://localhost:8080/",
          "height": 0
        },
        "id": "KJBLG_8fB3ek",
        "outputId": "14a24085-2972-4448-fd01-635aa2465d57"
      },
      "execution_count": 12,
      "outputs": [
        {
          "output_type": "execute_result",
          "data": {
            "application/vnd.google.colaboratory.intrinsic+json": {
              "type": "string"
            },
            "text/plain": [
              "'613'"
            ]
          },
          "metadata": {},
          "execution_count": 12
        }
      ]
    },
    {
      "cell_type": "code",
      "source": [
        "# Phone Number\n",
        "result_items[0]['Individual'][0]['Phones'][0]['PhoneNumber']"
      ],
      "metadata": {
        "colab": {
          "base_uri": "https://localhost:8080/",
          "height": 0
        },
        "id": "Q375d1k2Ckuc",
        "outputId": "b8545219-9ba8-417a-83f4-2da0ca28e0f9"
      },
      "execution_count": 13,
      "outputs": [
        {
          "output_type": "execute_result",
          "data": {
            "application/vnd.google.colaboratory.intrinsic+json": {
              "type": "string"
            },
            "text/plain": [
              "'913-7653'"
            ]
          },
          "metadata": {},
          "execution_count": 13
        }
      ]
    },
    {
      "cell_type": "code",
      "source": [
        "# Price\n",
        "result_items[0]['Property']['Price']"
      ],
      "metadata": {
        "colab": {
          "base_uri": "https://localhost:8080/",
          "height": 0
        },
        "id": "LpVMxGIaCw0p",
        "outputId": "ab9b1c11-a887-4511-e7d5-b05dd3bd62ac"
      },
      "execution_count": 14,
      "outputs": [
        {
          "output_type": "execute_result",
          "data": {
            "application/vnd.google.colaboratory.intrinsic+json": {
              "type": "string"
            },
            "text/plain": [
              "'$385,000'"
            ]
          },
          "metadata": {},
          "execution_count": 14
        }
      ]
    },
    {
      "cell_type": "markdown",
      "source": [
        "# 4. Criando uma rotina de execução."
      ],
      "metadata": {
        "id": "HLdKOtCVSIHK"
      }
    },
    {
      "cell_type": "code",
      "source": [
        "# Criação dos vetores que iram receber as informações\n",
        "address = []\n",
        "bedrooms = []\n",
        "bathrooms = []\n",
        "agent_name = []\n",
        "area_code = []\n",
        "phone_number = []\n",
        "price = []"
      ],
      "metadata": {
        "id": "X3LFX8R2C_AO"
      },
      "execution_count": 15,
      "outputs": []
    },
    {
      "cell_type": "code",
      "source": [
        "# Laço que irá varrer todos os dados presentes em 'result_items' e irá fazer a \n",
        "# extração das informações\n",
        "for result in result_items:\n",
        "  try:\n",
        "    address.append(result['Property']['Address']['AddressText'])\n",
        "  except:\n",
        "    address.append('N/A')\n",
        "  \n",
        "  try:\n",
        "    bedrooms.append(result['Building']['Bedrooms'])\n",
        "  except:\n",
        "    bedrooms.append('N/A')\n",
        "\n",
        "  try:\n",
        "    bathrooms.append(result['Building']['BathroomTotal'])\n",
        "  except:\n",
        "    bathrooms.append('N/A')\n",
        "\n",
        "  try:\n",
        "    agent_name.append(result['Individual'][0]['Name'])\n",
        "  except:\n",
        "    agent_name.append('N/A')\n",
        "\n",
        "  try:\n",
        "    area_code.append(result['Individual'][0]['Phones'][0]['AreaCode'])\n",
        "  except:\n",
        "    area_code.append('N/A')\n",
        "  \n",
        "  try:\n",
        "    phone_number.append(result['Individual'][0]['Phones'][0]['PhoneNumber'])\n",
        "  except:\n",
        "    phone_number.append('N/A')\n",
        "\n",
        "  try:\n",
        "    price.append(result['Property']['Price'])\n",
        "  except:\n",
        "    price.append('N/A')"
      ],
      "metadata": {
        "id": "R1kUxYpZDeYf"
      },
      "execution_count": 16,
      "outputs": []
    },
    {
      "cell_type": "markdown",
      "source": [
        "#5. Criando o DataFrame"
      ],
      "metadata": {
        "id": "Mm1UXj8GSnY7"
      }
    },
    {
      "cell_type": "code",
      "source": [
        "# Estrutura para a criação do Dataframe\n",
        "dictionary = {\n",
        "    'Address' : address,\n",
        "    'Bedrooms' : bedrooms,\n",
        "    'Bathrooms' : bathrooms,\n",
        "    'Agent Name' : agent_name,\n",
        "    'Area Code' : area_code,\n",
        "    'Phone Number' : phone_number,\n",
        "    'Price' : price\n",
        "}"
      ],
      "metadata": {
        "id": "cxO0kdu0EwTD"
      },
      "execution_count": 17,
      "outputs": []
    },
    {
      "cell_type": "code",
      "source": [
        "df_realtor = pd.DataFrame(dictionary)\n",
        "df_realtor.head()"
      ],
      "metadata": {
        "colab": {
          "base_uri": "https://localhost:8080/",
          "height": 0
        },
        "id": "EIYjnYr_FfzO",
        "outputId": "dbabb66d-f986-4be1-e655-3484c3005f3b"
      },
      "execution_count": 18,
      "outputs": [
        {
          "output_type": "execute_result",
          "data": {
            "text/html": [
              "\n",
              "  <div id=\"df-96d6d3ec-8e55-4636-a478-fa42d07671be\">\n",
              "    <div class=\"colab-df-container\">\n",
              "      <div>\n",
              "<style scoped>\n",
              "    .dataframe tbody tr th:only-of-type {\n",
              "        vertical-align: middle;\n",
              "    }\n",
              "\n",
              "    .dataframe tbody tr th {\n",
              "        vertical-align: top;\n",
              "    }\n",
              "\n",
              "    .dataframe thead th {\n",
              "        text-align: right;\n",
              "    }\n",
              "</style>\n",
              "<table border=\"1\" class=\"dataframe\">\n",
              "  <thead>\n",
              "    <tr style=\"text-align: right;\">\n",
              "      <th></th>\n",
              "      <th>Address</th>\n",
              "      <th>Bedrooms</th>\n",
              "      <th>Bathrooms</th>\n",
              "      <th>Agent Name</th>\n",
              "      <th>Area Code</th>\n",
              "      <th>Phone Number</th>\n",
              "      <th>Price</th>\n",
              "    </tr>\n",
              "  </thead>\n",
              "  <tbody>\n",
              "    <tr>\n",
              "      <th>0</th>\n",
              "      <td>22 BRODER CRESCENT|Morrisburg, Ontario K0C1X0</td>\n",
              "      <td>2 + 0</td>\n",
              "      <td>2</td>\n",
              "      <td>Natalie Sobhie</td>\n",
              "      <td>613</td>\n",
              "      <td>913-7653</td>\n",
              "      <td>$385,000</td>\n",
              "    </tr>\n",
              "    <tr>\n",
              "      <th>1</th>\n",
              "      <td>82 LONGWORTH AVENUE|Ottawa, Ontario K1T0S7</td>\n",
              "      <td>3 + 0</td>\n",
              "      <td>3</td>\n",
              "      <td>Joanne Duffy</td>\n",
              "      <td>613</td>\n",
              "      <td>866-2510</td>\n",
              "      <td>$699,900</td>\n",
              "    </tr>\n",
              "    <tr>\n",
              "      <th>2</th>\n",
              "      <td>40 BOTELER STREET UNIT#402|Ottawa, Ontario K1N9C8</td>\n",
              "      <td>2 + 0</td>\n",
              "      <td>2</td>\n",
              "      <td>Alex Harden</td>\n",
              "      <td>613</td>\n",
              "      <td>725-1171</td>\n",
              "      <td>$1,350,000</td>\n",
              "    </tr>\n",
              "    <tr>\n",
              "      <th>3</th>\n",
              "      <td>48 BERGERON PRIVATE|Ottawa, Ontario K1C0C2</td>\n",
              "      <td>2 + 0</td>\n",
              "      <td>2</td>\n",
              "      <td>Jeff Matheson</td>\n",
              "      <td>613</td>\n",
              "      <td>404-5700</td>\n",
              "      <td>$455,000</td>\n",
              "    </tr>\n",
              "    <tr>\n",
              "      <th>4</th>\n",
              "      <td>1505 BASELINE ROAD|Ottawa, Ontario K2C3L4</td>\n",
              "      <td>3 + 0</td>\n",
              "      <td>2</td>\n",
              "      <td>Hosnia Qazi</td>\n",
              "      <td>613</td>\n",
              "      <td>852-2806</td>\n",
              "      <td>$369,900</td>\n",
              "    </tr>\n",
              "  </tbody>\n",
              "</table>\n",
              "</div>\n",
              "      <button class=\"colab-df-convert\" onclick=\"convertToInteractive('df-96d6d3ec-8e55-4636-a478-fa42d07671be')\"\n",
              "              title=\"Convert this dataframe to an interactive table.\"\n",
              "              style=\"display:none;\">\n",
              "        \n",
              "  <svg xmlns=\"http://www.w3.org/2000/svg\" height=\"24px\"viewBox=\"0 0 24 24\"\n",
              "       width=\"24px\">\n",
              "    <path d=\"M0 0h24v24H0V0z\" fill=\"none\"/>\n",
              "    <path d=\"M18.56 5.44l.94 2.06.94-2.06 2.06-.94-2.06-.94-.94-2.06-.94 2.06-2.06.94zm-11 1L8.5 8.5l.94-2.06 2.06-.94-2.06-.94L8.5 2.5l-.94 2.06-2.06.94zm10 10l.94 2.06.94-2.06 2.06-.94-2.06-.94-.94-2.06-.94 2.06-2.06.94z\"/><path d=\"M17.41 7.96l-1.37-1.37c-.4-.4-.92-.59-1.43-.59-.52 0-1.04.2-1.43.59L10.3 9.45l-7.72 7.72c-.78.78-.78 2.05 0 2.83L4 21.41c.39.39.9.59 1.41.59.51 0 1.02-.2 1.41-.59l7.78-7.78 2.81-2.81c.8-.78.8-2.07 0-2.86zM5.41 20L4 18.59l7.72-7.72 1.47 1.35L5.41 20z\"/>\n",
              "  </svg>\n",
              "      </button>\n",
              "      \n",
              "  <style>\n",
              "    .colab-df-container {\n",
              "      display:flex;\n",
              "      flex-wrap:wrap;\n",
              "      gap: 12px;\n",
              "    }\n",
              "\n",
              "    .colab-df-convert {\n",
              "      background-color: #E8F0FE;\n",
              "      border: none;\n",
              "      border-radius: 50%;\n",
              "      cursor: pointer;\n",
              "      display: none;\n",
              "      fill: #1967D2;\n",
              "      height: 32px;\n",
              "      padding: 0 0 0 0;\n",
              "      width: 32px;\n",
              "    }\n",
              "\n",
              "    .colab-df-convert:hover {\n",
              "      background-color: #E2EBFA;\n",
              "      box-shadow: 0px 1px 2px rgba(60, 64, 67, 0.3), 0px 1px 3px 1px rgba(60, 64, 67, 0.15);\n",
              "      fill: #174EA6;\n",
              "    }\n",
              "\n",
              "    [theme=dark] .colab-df-convert {\n",
              "      background-color: #3B4455;\n",
              "      fill: #D2E3FC;\n",
              "    }\n",
              "\n",
              "    [theme=dark] .colab-df-convert:hover {\n",
              "      background-color: #434B5C;\n",
              "      box-shadow: 0px 1px 3px 1px rgba(0, 0, 0, 0.15);\n",
              "      filter: drop-shadow(0px 1px 2px rgba(0, 0, 0, 0.3));\n",
              "      fill: #FFFFFF;\n",
              "    }\n",
              "  </style>\n",
              "\n",
              "      <script>\n",
              "        const buttonEl =\n",
              "          document.querySelector('#df-96d6d3ec-8e55-4636-a478-fa42d07671be button.colab-df-convert');\n",
              "        buttonEl.style.display =\n",
              "          google.colab.kernel.accessAllowed ? 'block' : 'none';\n",
              "\n",
              "        async function convertToInteractive(key) {\n",
              "          const element = document.querySelector('#df-96d6d3ec-8e55-4636-a478-fa42d07671be');\n",
              "          const dataTable =\n",
              "            await google.colab.kernel.invokeFunction('convertToInteractive',\n",
              "                                                     [key], {});\n",
              "          if (!dataTable) return;\n",
              "\n",
              "          const docLinkHtml = 'Like what you see? Visit the ' +\n",
              "            '<a target=\"_blank\" href=https://colab.research.google.com/notebooks/data_table.ipynb>data table notebook</a>'\n",
              "            + ' to learn more about interactive tables.';\n",
              "          element.innerHTML = '';\n",
              "          dataTable['output_type'] = 'display_data';\n",
              "          await google.colab.output.renderOutput(dataTable, element);\n",
              "          const docLink = document.createElement('div');\n",
              "          docLink.innerHTML = docLinkHtml;\n",
              "          element.appendChild(docLink);\n",
              "        }\n",
              "      </script>\n",
              "    </div>\n",
              "  </div>\n",
              "  "
            ],
            "text/plain": [
              "                                             Address  ...       Price\n",
              "0      22 BRODER CRESCENT|Morrisburg, Ontario K0C1X0  ...    $385,000\n",
              "1         82 LONGWORTH AVENUE|Ottawa, Ontario K1T0S7  ...    $699,900\n",
              "2  40 BOTELER STREET UNIT#402|Ottawa, Ontario K1N9C8  ...  $1,350,000\n",
              "3         48 BERGERON PRIVATE|Ottawa, Ontario K1C0C2  ...    $455,000\n",
              "4          1505 BASELINE ROAD|Ottawa, Ontario K2C3L4  ...    $369,900\n",
              "\n",
              "[5 rows x 7 columns]"
            ]
          },
          "metadata": {},
          "execution_count": 18
        }
      ]
    },
    {
      "cell_type": "markdown",
      "source": [
        "# 6. Executando com todas as paginas do site\n",
        "O objetivo agora é fazer o fluxo percorrer todas as páginas que o site possui.\n"
      ],
      "metadata": {
        "id": "EcvZM6KtHajI"
      }
    },
    {
      "cell_type": "code",
      "source": [
        "address = []\n",
        "bedrooms = []\n",
        "bathrooms = []\n",
        "agent_name = []\n",
        "area_code = []\n",
        "phone_number = []\n",
        "price = []\n",
        "\n",
        "for i in range(1 ,51):\n",
        "  url = \"https://api2.realtor.ca/Listing.svc/PropertySearch_Post\"\n",
        "\n",
        "  headers = CaseInsensitiveDict()\n",
        "  headers[\"authority\"] = \"api2.realtor.ca\"\n",
        "  headers[\"accept\"] = \"*/*\"\n",
        "  headers[\"user-agent\"] = \"Mozilla/5.0 (Windows NT 10.0; Win64; x64) AppleWebKit/537.36 (KHTML, like Gecko) Chrome/97.0.4692.71 Safari/537.36\"\n",
        "  headers[\"content-type\"] = \"application/x-www-form-urlencoded; charset=UTF-8\"\n",
        "  headers[\"sec-gpc\"] = \"1\"\n",
        "  headers[\"origin\"] = \"https://www.realtor.ca\"\n",
        "  headers[\"sec-fetch-site\"] = \"same-site\"\n",
        "  headers[\"sec-fetch-mode\"] = \"cors\"\n",
        "  headers[\"sec-fetch-dest\"] = \"empty\"\n",
        "  headers[\"referer\"] = \"https://www.realtor.ca/\"\n",
        "  headers[\"accept-language\"] = \"pt-BR,pt;q=0.9,en-US;q=0.8,en;q=0.7\"\n",
        "  headers[\"cookie\"] = \"visid_incap_2269415=muoD4q7zRLu7xN1m4bBqzTQl3GEAAAAAQUIPAAAAAAD38KiNO1t29F4wQLgwv4o6; nlbi_2269415=fufpRG3iZXA1ybjskG5lugAAAADrplQvRokxgGBBXCKPD8+h; incap_ses_1291_2269415=SgY6Yy46vRjVOD92D47qETUl3GEAAAAAWm2hYKcsD+iox5bL4mUY8w==; incap_ses_1476_2269415=P0nVBowxhzFc4JmzR857FDUl3GEAAAAAUpKstbfl0X2PHe4H6Jf/Dg==; gig_bootstrap_3_mrQiIl6ov44s2X3j6NGWVZ9SDDtplqV7WgdcyEpGYnYxl7ygDWPQHqQqtpSiUfko=gigya-pr_ver4; ASP.NET_SessionId=j1fnmpbdhc5lr0icak0wv2zn; visid_incap_2271082=gCzjZi7GSDGqG1ZjU5pq7nAl3GEAAAAAQUIPAAAAAADeKRcD3r2Wxpm9Vs8Mndvt; nlbi_2271082=8aazJdLALHWa3xTxcbDG1QAAAAD9YES4zCXffzBUkPf1qC/U; incap_ses_1476_2271082=9N+MKBbThCckSpqzR857FHEl3GEAAAAAhsoge2AvWrCjuGi1iEpcNA==; nlbi_2269415_2147483646=GdYCOJ/P9TAWpH8gkG5lugAAAADNsvmEahUBUtBpIWe3P5lu; reese84=3:+NoFzjgVLw+cKHmp/nEPMw==:kHBIdkpQ7yrJ0MnoVzPmXMyaRp2YCsoE0ISHtKGxdNb77JlfSicPYlwsm+lLAVji0zmti0XH1n8s1tLUKQX0vqYBhPTWwJXKnOzTyI0CUJ5ttKdRpSPc320C2EvXBt3y7mM58A0nN6/YtfiIMlpEnQp6NdZTupW8m8hiWoCknLXHvqsXYibjUP1kjWh2s6qCHAMkaq9lOjs6QqydKpb2DQLsCdzCkBmmNfoCTvw065b3NvhxlTRgk1y4zJtsmVKl7hkJZD8V9NW6GxEOapnkXTNesuM/fJso14RQKT+icyll7+kNJa51zrDLWpZPL/75cUsLDVOcbjSvPqlmsN4+A0zyQJaSL+nOYqDy+2DaxdZfpR1aUPGGnJlfJaIGvHLL8Gam0m1eSVLwhVRuK7J2wawl2utMBDXCEI3m8TXBZAg=:S+vNB3cfHiQD7IMzSMA8WPwzKpy+w+bUxaKUIM5oh0c=\"\n",
        "\n",
        "  data = f\"ZoomLevel=10&LatitudeMax=45.62325&LongitudeMax=-75.15382&LatitudeMin=44.87493&LongitudeMin=-76.44608&Sort=6-D&PropertyTypeGroupID=1&PropertySearchTypeId=1&TransactionTypeId=2&Currency=CAD&RecordsPerPage=12&ApplicationId=1&CultureId=1&Version=7.0&CurrentPage={i}\"\n",
        "\n",
        "\n",
        "  response = requests.post(url, headers=headers, data=data)\n",
        "  \n",
        "  \n",
        "  result_json = response.json()\n",
        "\n",
        "  result_items = result_json['Results']\n",
        "\n",
        "  for result in result_items:\n",
        "    try:\n",
        "      address.append(result['Property']['Address']['AddressText'])\n",
        "    except:\n",
        "      address.append('N/A')\n",
        "    \n",
        "    try:\n",
        "      bedrooms.append(result['Building']['Bedrooms'])\n",
        "    except:\n",
        "      bedrooms.append('N/A')\n",
        "\n",
        "    try:\n",
        "      bathrooms.append(result['Building']['BathroomTotal'])\n",
        "    except:\n",
        "      bathrooms.append('N/A')\n",
        "\n",
        "    try:\n",
        "      agent_name.append(result['Individual'][0]['Name'])\n",
        "    except:\n",
        "      agent_name.append('N/A')\n",
        "\n",
        "    try:\n",
        "      area_code.append(result['Individual'][0]['Phones'][0]['AreaCode'])\n",
        "    except:\n",
        "      area_code.append('N/A')\n",
        "    \n",
        "    try:\n",
        "      phone_number.append(result['Individual'][0]['Phones'][0]['PhoneNumber'])\n",
        "    except:\n",
        "      phone_number.append('N/A')\n",
        "\n",
        "    try:\n",
        "      price.append(result['Property']['Price'])\n",
        "    except:\n",
        "      price.append('N/A')"
      ],
      "metadata": {
        "id": "45OL5JpMFnqF"
      },
      "execution_count": 19,
      "outputs": []
    },
    {
      "cell_type": "code",
      "source": [
        "dictionary = {\n",
        "    'Address' : address,\n",
        "    'Bedrooms' : bedrooms,\n",
        "    'Bathrooms' : bathrooms,\n",
        "    'Agent Name' : agent_name,\n",
        "    'Area Code' : area_code,\n",
        "    'Phone Number' : phone_number,\n",
        "    'Price' : price\n",
        "}"
      ],
      "metadata": {
        "id": "lEh7izgIJTNc"
      },
      "execution_count": 20,
      "outputs": []
    },
    {
      "cell_type": "code",
      "source": [
        "df_realtor = pd.DataFrame(dictionary)\n",
        "df_realtor.head()"
      ],
      "metadata": {
        "colab": {
          "base_uri": "https://localhost:8080/",
          "height": 206
        },
        "id": "sWI7bauxJZvG",
        "outputId": "c7f325a4-9cb2-4142-848e-5c6180ebe5f4"
      },
      "execution_count": 21,
      "outputs": [
        {
          "output_type": "execute_result",
          "data": {
            "text/html": [
              "\n",
              "  <div id=\"df-630f8f47-18c7-45b3-afa0-6397dd5d79ec\">\n",
              "    <div class=\"colab-df-container\">\n",
              "      <div>\n",
              "<style scoped>\n",
              "    .dataframe tbody tr th:only-of-type {\n",
              "        vertical-align: middle;\n",
              "    }\n",
              "\n",
              "    .dataframe tbody tr th {\n",
              "        vertical-align: top;\n",
              "    }\n",
              "\n",
              "    .dataframe thead th {\n",
              "        text-align: right;\n",
              "    }\n",
              "</style>\n",
              "<table border=\"1\" class=\"dataframe\">\n",
              "  <thead>\n",
              "    <tr style=\"text-align: right;\">\n",
              "      <th></th>\n",
              "      <th>Address</th>\n",
              "      <th>Bedrooms</th>\n",
              "      <th>Bathrooms</th>\n",
              "      <th>Agent Name</th>\n",
              "      <th>Area Code</th>\n",
              "      <th>Phone Number</th>\n",
              "      <th>Price</th>\n",
              "    </tr>\n",
              "  </thead>\n",
              "  <tbody>\n",
              "    <tr>\n",
              "      <th>0</th>\n",
              "      <td>22 BRODER CRESCENT|Morrisburg, Ontario K0C1X0</td>\n",
              "      <td>2 + 0</td>\n",
              "      <td>2</td>\n",
              "      <td>Natalie Sobhie</td>\n",
              "      <td>613</td>\n",
              "      <td>913-7653</td>\n",
              "      <td>$385,000</td>\n",
              "    </tr>\n",
              "    <tr>\n",
              "      <th>1</th>\n",
              "      <td>82 LONGWORTH AVENUE|Ottawa, Ontario K1T0S7</td>\n",
              "      <td>3 + 0</td>\n",
              "      <td>3</td>\n",
              "      <td>Joanne Duffy</td>\n",
              "      <td>613</td>\n",
              "      <td>866-2510</td>\n",
              "      <td>$699,900</td>\n",
              "    </tr>\n",
              "    <tr>\n",
              "      <th>2</th>\n",
              "      <td>40 BOTELER STREET UNIT#402|Ottawa, Ontario K1N9C8</td>\n",
              "      <td>2 + 0</td>\n",
              "      <td>2</td>\n",
              "      <td>Alex Harden</td>\n",
              "      <td>613</td>\n",
              "      <td>725-1171</td>\n",
              "      <td>$1,350,000</td>\n",
              "    </tr>\n",
              "    <tr>\n",
              "      <th>3</th>\n",
              "      <td>48 BERGERON PRIVATE|Ottawa, Ontario K1C0C2</td>\n",
              "      <td>2 + 0</td>\n",
              "      <td>2</td>\n",
              "      <td>Jeff Matheson</td>\n",
              "      <td>613</td>\n",
              "      <td>404-5700</td>\n",
              "      <td>$455,000</td>\n",
              "    </tr>\n",
              "    <tr>\n",
              "      <th>4</th>\n",
              "      <td>1505 BASELINE ROAD|Ottawa, Ontario K2C3L4</td>\n",
              "      <td>3 + 0</td>\n",
              "      <td>2</td>\n",
              "      <td>Hosnia Qazi</td>\n",
              "      <td>613</td>\n",
              "      <td>852-2806</td>\n",
              "      <td>$369,900</td>\n",
              "    </tr>\n",
              "  </tbody>\n",
              "</table>\n",
              "</div>\n",
              "      <button class=\"colab-df-convert\" onclick=\"convertToInteractive('df-630f8f47-18c7-45b3-afa0-6397dd5d79ec')\"\n",
              "              title=\"Convert this dataframe to an interactive table.\"\n",
              "              style=\"display:none;\">\n",
              "        \n",
              "  <svg xmlns=\"http://www.w3.org/2000/svg\" height=\"24px\"viewBox=\"0 0 24 24\"\n",
              "       width=\"24px\">\n",
              "    <path d=\"M0 0h24v24H0V0z\" fill=\"none\"/>\n",
              "    <path d=\"M18.56 5.44l.94 2.06.94-2.06 2.06-.94-2.06-.94-.94-2.06-.94 2.06-2.06.94zm-11 1L8.5 8.5l.94-2.06 2.06-.94-2.06-.94L8.5 2.5l-.94 2.06-2.06.94zm10 10l.94 2.06.94-2.06 2.06-.94-2.06-.94-.94-2.06-.94 2.06-2.06.94z\"/><path d=\"M17.41 7.96l-1.37-1.37c-.4-.4-.92-.59-1.43-.59-.52 0-1.04.2-1.43.59L10.3 9.45l-7.72 7.72c-.78.78-.78 2.05 0 2.83L4 21.41c.39.39.9.59 1.41.59.51 0 1.02-.2 1.41-.59l7.78-7.78 2.81-2.81c.8-.78.8-2.07 0-2.86zM5.41 20L4 18.59l7.72-7.72 1.47 1.35L5.41 20z\"/>\n",
              "  </svg>\n",
              "      </button>\n",
              "      \n",
              "  <style>\n",
              "    .colab-df-container {\n",
              "      display:flex;\n",
              "      flex-wrap:wrap;\n",
              "      gap: 12px;\n",
              "    }\n",
              "\n",
              "    .colab-df-convert {\n",
              "      background-color: #E8F0FE;\n",
              "      border: none;\n",
              "      border-radius: 50%;\n",
              "      cursor: pointer;\n",
              "      display: none;\n",
              "      fill: #1967D2;\n",
              "      height: 32px;\n",
              "      padding: 0 0 0 0;\n",
              "      width: 32px;\n",
              "    }\n",
              "\n",
              "    .colab-df-convert:hover {\n",
              "      background-color: #E2EBFA;\n",
              "      box-shadow: 0px 1px 2px rgba(60, 64, 67, 0.3), 0px 1px 3px 1px rgba(60, 64, 67, 0.15);\n",
              "      fill: #174EA6;\n",
              "    }\n",
              "\n",
              "    [theme=dark] .colab-df-convert {\n",
              "      background-color: #3B4455;\n",
              "      fill: #D2E3FC;\n",
              "    }\n",
              "\n",
              "    [theme=dark] .colab-df-convert:hover {\n",
              "      background-color: #434B5C;\n",
              "      box-shadow: 0px 1px 3px 1px rgba(0, 0, 0, 0.15);\n",
              "      filter: drop-shadow(0px 1px 2px rgba(0, 0, 0, 0.3));\n",
              "      fill: #FFFFFF;\n",
              "    }\n",
              "  </style>\n",
              "\n",
              "      <script>\n",
              "        const buttonEl =\n",
              "          document.querySelector('#df-630f8f47-18c7-45b3-afa0-6397dd5d79ec button.colab-df-convert');\n",
              "        buttonEl.style.display =\n",
              "          google.colab.kernel.accessAllowed ? 'block' : 'none';\n",
              "\n",
              "        async function convertToInteractive(key) {\n",
              "          const element = document.querySelector('#df-630f8f47-18c7-45b3-afa0-6397dd5d79ec');\n",
              "          const dataTable =\n",
              "            await google.colab.kernel.invokeFunction('convertToInteractive',\n",
              "                                                     [key], {});\n",
              "          if (!dataTable) return;\n",
              "\n",
              "          const docLinkHtml = 'Like what you see? Visit the ' +\n",
              "            '<a target=\"_blank\" href=https://colab.research.google.com/notebooks/data_table.ipynb>data table notebook</a>'\n",
              "            + ' to learn more about interactive tables.';\n",
              "          element.innerHTML = '';\n",
              "          dataTable['output_type'] = 'display_data';\n",
              "          await google.colab.output.renderOutput(dataTable, element);\n",
              "          const docLink = document.createElement('div');\n",
              "          docLink.innerHTML = docLinkHtml;\n",
              "          element.appendChild(docLink);\n",
              "        }\n",
              "      </script>\n",
              "    </div>\n",
              "  </div>\n",
              "  "
            ],
            "text/plain": [
              "                                             Address  ...       Price\n",
              "0      22 BRODER CRESCENT|Morrisburg, Ontario K0C1X0  ...    $385,000\n",
              "1         82 LONGWORTH AVENUE|Ottawa, Ontario K1T0S7  ...    $699,900\n",
              "2  40 BOTELER STREET UNIT#402|Ottawa, Ontario K1N9C8  ...  $1,350,000\n",
              "3         48 BERGERON PRIVATE|Ottawa, Ontario K1C0C2  ...    $455,000\n",
              "4          1505 BASELINE ROAD|Ottawa, Ontario K2C3L4  ...    $369,900\n",
              "\n",
              "[5 rows x 7 columns]"
            ]
          },
          "metadata": {},
          "execution_count": 21
        }
      ]
    },
    {
      "cell_type": "code",
      "source": [
        "# Resultado de todos os dados.\n",
        "df_realtor.info()"
      ],
      "metadata": {
        "colab": {
          "base_uri": "https://localhost:8080/"
        },
        "id": "o0uuIdBFJcUU",
        "outputId": "6ea913a2-0d69-44da-b3b2-a9b853ea7c5a"
      },
      "execution_count": 22,
      "outputs": [
        {
          "output_type": "stream",
          "name": "stdout",
          "text": [
            "<class 'pandas.core.frame.DataFrame'>\n",
            "RangeIndex: 600 entries, 0 to 599\n",
            "Data columns (total 7 columns):\n",
            " #   Column        Non-Null Count  Dtype \n",
            "---  ------        --------------  ----- \n",
            " 0   Address       600 non-null    object\n",
            " 1   Bedrooms      600 non-null    object\n",
            " 2   Bathrooms     600 non-null    object\n",
            " 3   Agent Name    600 non-null    object\n",
            " 4   Area Code     600 non-null    object\n",
            " 5   Phone Number  600 non-null    object\n",
            " 6   Price         600 non-null    object\n",
            "dtypes: object(7)\n",
            "memory usage: 32.9+ KB\n"
          ]
        }
      ]
    },
    {
      "cell_type": "markdown",
      "source": [
        "# 7. Conclusão\n",
        "Agora, como todas as informações coletadas de todas as páginas, temos um mar de possibilidades de análises, tratamentos, tendo em vista que só foi feita nesse notebook a parte da coleta desses dados. \n",
        "\n"
      ],
      "metadata": {
        "id": "VBCmgmiOVVRP"
      }
    },
    {
      "cell_type": "code",
      "source": [
        ""
      ],
      "metadata": {
        "id": "Mu9XollXVTlB"
      },
      "execution_count": 22,
      "outputs": []
    }
  ]
}